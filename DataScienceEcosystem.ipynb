{
  "metadata": {
    "kernelspec": {
      "name": "python",
      "display_name": "Python (Pyodide)",
      "language": "python"
    },
    "language_info": {
      "name": ""
    }
  },
  "nbformat_minor": 4,
  "nbformat": 4,
  "cells": [
    {
      "cell_type": "markdown",
      "source": "DATA SCIENCE TOOLS AND ECOSYSTEM",
      "metadata": {}
    },
    {
      "cell_type": "markdown",
      "source": "In this notebook data science tools and ecosystme are summarized.",
      "metadata": {}
    },
    {
      "cell_type": "markdown",
      "source": "# H1: Some of the popular languages that Data Scientists use are: \nOrdered list : \n1. Julia \n2. Python\n3. R\n4. Java\n5. MATLAB",
      "metadata": {}
    },
    {
      "cell_type": "markdown",
      "source": "Some of the commonly used libraries used by Data Scientists include:\nordered list:\n1. IBM CO\n2. $ pip install jupiter lab\n3. Anaconda\n4. Skills network",
      "metadata": {}
    },
    {
      "cell_type": "markdown",
      "source": "| Data Science Tools |\n| ------------------ |\n| Hadoop |\n| spark |\n| pandas",
      "metadata": {}
    },
    {
      "cell_type": "markdown",
      "source": "### H3: Below are a few examples of evaluating arithmetic expressions in Python. \n1. x + y = y + x\n2. x(x+y) = x*x + x*y\n3. (x+y)*(x+y) = x*x + 2x*y + y*y",
      "metadata": {}
    },
    {
      "cell_type": "code",
      "source": " # This a simple arithmetic expression to mutiply then add integers and execute it \n# (3*4)+5",
      "metadata": {
        "trusted": true
      },
      "outputs": [],
      "execution_count": null
    },
    {
      "cell_type": "code",
      "source": "17",
      "metadata": {
        "trusted": true
      },
      "outputs": [],
      "execution_count": null
    },
    {
      "cell_type": "code",
      "source": "This will convert 200 minutes to hours by diving by 60:\n# converts 200 minutes into hours",
      "metadata": {
        "trusted": true
      },
      "outputs": [],
      "execution_count": null
    },
    {
      "cell_type": "markdown",
      "source": "** Objectives **\n- Python\n- R\n- SQL\n- Java\n- Julia",
      "metadata": {}
    },
    {
      "cell_type": "markdown",
      "source": "## H2 : Author \nVineet Pandey",
      "metadata": {}
    },
    {
      "cell_type": "code",
      "source": "",
      "metadata": {
        "trusted": true
      },
      "outputs": [],
      "execution_count": null
    }
  ]
}